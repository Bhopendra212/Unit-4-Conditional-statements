{
 "cells": [
  {
   "cell_type": "markdown",
   "id": "153e0fae-26ba-42fc-96f3-78c7fecf96bb",
   "metadata": {},
   "source": [
    "# If condition"
   ]
  },
  {
   "cell_type": "code",
   "execution_count": 1,
   "id": "b6142fd1-bc6e-4c69-9557-6a9c063594a2",
   "metadata": {},
   "outputs": [
    {
     "name": "stdin",
     "output_type": "stream",
     "text": [
      "Enter the 1st value 33\n",
      "Enter the 2nd value 45\n"
     ]
    },
    {
     "name": "stdout",
     "output_type": "stream",
     "text": [
      "The greater value is b: 45\n"
     ]
    }
   ],
   "source": [
    "\"\"\"Take two numbers from the user and print the greater one\"\"\"\n",
    "\n",
    "a=int(input('Enter the 1st value'))\n",
    "b=int(input('Enter the 2nd value'))\n",
    "\n",
    "if a>b:\n",
    "    print('The greater value is a:',a)\n",
    "\n",
    "if b>a:\n",
    "    print('The greater value is b:',b)\n"
   ]
  },
  {
   "cell_type": "code",
   "execution_count": 4,
   "id": "7421d28c-c484-4c47-a7a8-7fa529c2685c",
   "metadata": {},
   "outputs": [
    {
     "name": "stdin",
     "output_type": "stream",
     "text": [
      "Enter the value 13\n"
     ]
    },
    {
     "name": "stdout",
     "output_type": "stream",
     "text": [
      "The number entered is not even number\n"
     ]
    }
   ],
   "source": [
    "\"\"\"Enter the value from the user and check the number is True or False\"\"\"\n",
    "\n",
    "a=int(input('Enter the value'))\n",
    "if a%2==0:\n",
    "    print('The number entered is even number')\n",
    "if a%2!=0:\n",
    "    print('The number entered is not even number')\n"
   ]
  },
  {
   "cell_type": "code",
   "execution_count": 6,
   "id": "00da4dbd-ba8c-40e8-b421-0a3a40dbe857",
   "metadata": {},
   "outputs": [
    {
     "name": "stdin",
     "output_type": "stream",
     "text": [
      "tossed a coin head\n"
     ]
    },
    {
     "name": "stdout",
     "output_type": "stream",
     "text": [
      "Team A will bat first\n"
     ]
    }
   ],
   "source": [
    "\"\"\"umpire tossed a coin if it will be head team A will bat first, if it will be a tail team B will bat first\"\"\"\n",
    "\n",
    "a = input('tossed a coin')\n",
    "\n",
    "if a=='head':\n",
    "    print('Team A will bat first')\n",
    "\n",
    "if a=='tail':\n",
    "    print('Team B will bat first')\n"
   ]
  },
  {
   "cell_type": "code",
   "execution_count": 8,
   "id": "865a8050-6f19-4587-bdc8-a32febebf13e",
   "metadata": {},
   "outputs": [
    {
     "name": "stdin",
     "output_type": "stream",
     "text": [
      "Enter the number 89\n"
     ]
    },
    {
     "name": "stdout",
     "output_type": "stream",
     "text": [
      "The number is not divisible by 13\n"
     ]
    }
   ],
   "source": [
    "\"\"\"enter a number from user and check the number is divisible by 13 or not\"\"\"\n",
    "\n",
    "y=int(input('Enter the number'))\n",
    "if y%13==0:\n",
    "    print('The number is divisible by 13')\n",
    "\n",
    "if y%13!=0:\n",
    "    print('The number is not divisible by 13')\n"
   ]
  },
  {
   "cell_type": "code",
   "execution_count": 42,
   "id": "53596ca5-ce08-455a-9e8a-6a1e61d5d51e",
   "metadata": {},
   "outputs": [
    {
     "name": "stdin",
     "output_type": "stream",
     "text": [
      "Enter the color of the ball red\n"
     ]
    },
    {
     "name": "stdout",
     "output_type": "stream",
     "text": [
      "Raju will not play\n"
     ]
    }
   ],
   "source": [
    "\"\"\"Raju went for shopping if he purchase blue ball then he will play from the side of blue team. if raju purchase green ball then he will play from the side of green team\"\"\"\n",
    "\n",
    "z=input('Enter the color of the ball')\n",
    "\n",
    "if z=='blue':\n",
    "    print('Raju will play in team blue')\n",
    "\n",
    "if z=='green':\n",
    "    print('Raju will play in team green')\n",
    "    \n",
    "print('Raju will not play')\n"
   ]
  },
  {
   "cell_type": "markdown",
   "id": "5b77233b-c7be-454c-81fd-cb49f6fcdb77",
   "metadata": {},
   "source": [
    "# If-else condition"
   ]
  },
  {
   "cell_type": "code",
   "execution_count": 16,
   "id": "9b3ffe44-5715-4617-b237-ceb317860da1",
   "metadata": {},
   "outputs": [
    {
     "name": "stdin",
     "output_type": "stream",
     "text": [
      "enter the value 30\n"
     ]
    },
    {
     "name": "stdout",
     "output_type": "stream",
     "text": [
      "Magic\n"
     ]
    }
   ],
   "source": [
    "\"\"\"take a value from the user if value is greater than 20 print magic and if value is not greater than 20 print no magic\"\"\"\n",
    "\n",
    "a=int(input('enter the value'))\n",
    "\n",
    "if a>20:\n",
    "    print('Magic')\n",
    "\n",
    "else:\n",
    "    print('No magic')\n"
   ]
  },
  {
   "cell_type": "code",
   "execution_count": 18,
   "id": "4eb8dddb-370c-47ca-92ba-36444b12e268",
   "metadata": {},
   "outputs": [
    {
     "name": "stdin",
     "output_type": "stream",
     "text": [
      "Enter your age 25\n"
     ]
    },
    {
     "name": "stdout",
     "output_type": "stream",
     "text": [
      "Not a senior citizen\n"
     ]
    }
   ],
   "source": [
    "\"\"\"Enter the age of the user if age is greater than 60 print senior citizen other wise age is less than 60, print not a senior citizen\"\"\"\n",
    "\n",
    "a=int(input('Enter your age'))\n",
    "\n",
    "if a>=60:\n",
    "    print('Senior citizen')\n",
    "\n",
    "else:\n",
    "    print('Not a senior citizen')\n",
    "\n"
   ]
  },
  {
   "cell_type": "code",
   "execution_count": 20,
   "id": "62b42349-1f71-4206-8ba4-f3b3c1d3f72f",
   "metadata": {},
   "outputs": [
    {
     "name": "stdin",
     "output_type": "stream",
     "text": [
      "Enter your age 20\n"
     ]
    },
    {
     "name": "stdout",
     "output_type": "stream",
     "text": [
      "You are eligible for voting\n",
      "Electrion is coming soon\n"
     ]
    }
   ],
   "source": [
    "\"\"\"Ask the user to enter his age, if age is greater than 18 eligible for voting\"\"\"\n",
    "\n",
    "a=int(input('Enter your age'))\n",
    "\n",
    "if a>=18:\n",
    "    print('You are eligible for voting')\n",
    "\n",
    "else:\n",
    "    print('You are not eligible for voting')\n",
    "\n",
    "print('Electrion is coming soon')\n"
   ]
  },
  {
   "cell_type": "markdown",
   "id": "09ce450c-115c-43cd-9982-0887858049ae",
   "metadata": {},
   "source": [
    "# If-elif-else condition"
   ]
  },
  {
   "cell_type": "code",
   "execution_count": 43,
   "id": "d7194b81-6eb7-435a-8bdc-603a9ea0e1ed",
   "metadata": {},
   "outputs": [
    {
     "name": "stdin",
     "output_type": "stream",
     "text": [
      "Enter the 1st  values : 22\n",
      "Enter the 2nd value 45\n"
     ]
    },
    {
     "name": "stdout",
     "output_type": "stream",
     "text": [
      "Value is less\n"
     ]
    }
   ],
   "source": [
    "\"\"\"Enter two value from the user and if the value will be greater print greater and if value is not equal print not equal if values are equal print equal values\"\"\"\n",
    "\n",
    "a = int(input('Enter the 1st  values :'))\n",
    "b = int(input('Enter the 2nd value'))\n",
    "\n",
    "if a>b:\n",
    "    print('The value is greater',)\n",
    "elif a==b:\n",
    "    print('Values are equal')\n",
    "else:\n",
    "    print('Value is less')"
   ]
  },
  {
   "cell_type": "code",
   "execution_count": 26,
   "id": "6b0c37db-101a-44d5-ad43-bd7dc064b27b",
   "metadata": {},
   "outputs": [
    {
     "name": "stdin",
     "output_type": "stream",
     "text": [
      "Enter the value 4\n"
     ]
    },
    {
     "name": "stdout",
     "output_type": "stream",
     "text": [
      "Number is divisible by 2\n"
     ]
    }
   ],
   "source": [
    "\"\"\"take a value from the user and check it is divisible by 2 or 3 or neither 2 or 3\"\"\"\n",
    "\n",
    "a=int(input('Enter the value'))\n",
    "\n",
    "if a%2==0:\n",
    "    print('Number is divisible by 2')\n",
    "elif a%3==0:\n",
    "    print('Number is divisible by 3')\n",
    "else:\n",
    "    print('Number is not divisible by 2 and 3')"
   ]
  },
  {
   "cell_type": "code",
   "execution_count": 30,
   "id": "cf7afaf6-ad9a-4b5b-b2b6-e4e1a46f61ed",
   "metadata": {},
   "outputs": [
    {
     "name": "stdin",
     "output_type": "stream",
     "text": [
      "Enter the marks 80\n"
     ]
    },
    {
     "name": "stdout",
     "output_type": "stream",
     "text": [
      "B grade\n"
     ]
    }
   ],
   "source": [
    "\"\"\"Enter the marks of the student, if marks is greater than or equal to 85 print A grade, marks is greater than or equal to 80 points print B grade, adn so on till E grade \"\"\"\n",
    "\n",
    "a=int(input('Enter the marks'))\n",
    "\n",
    "if a>=85:\n",
    "    print('A grade')\n",
    "elif a>=80 and a<85:\n",
    "    print('B grade')\n",
    "elif a>=75 and a<80:\n",
    "    print('C grade')\n",
    "elif a>=70 and a<75:\n",
    "    print('D grade')\n",
    "elif a>=65 and a<70:\n",
    "    print('E grade')\n",
    "else:\n",
    "    print('Fail')\n"
   ]
  },
  {
   "cell_type": "code",
   "execution_count": 33,
   "id": "f7d1d1e1-c4ec-4fed-ac85-d7c20a0afdde",
   "metadata": {},
   "outputs": [
    {
     "name": "stdin",
     "output_type": "stream",
     "text": [
      "Enter the value 3\n"
     ]
    },
    {
     "name": "stdout",
     "output_type": "stream",
     "text": [
      "Wednesday\n"
     ]
    }
   ],
   "source": [
    "\"\"\"Write an program and take the number from user 1 to 7, if number is 1 print monday if number is 2 print tuesday if number is 3 print wednesday and so on\"\"\"\n",
    "\n",
    "a=int(input('Enter the value'))\n",
    "\n",
    "if a==1:\n",
    "    print('Monday')\n",
    "elif a==2:\n",
    "    print('Tuesday')\n",
    "elif a==3:\n",
    "    print('Wednesday')\n",
    "elif a==4:\n",
    "    print('Thrusday')\n",
    "elif a==5:\n",
    "    print('Friday')\n",
    "elif a==6:\n",
    "    print('Saturday')\n",
    "elif a==7:\n",
    "    print('Sunday')\n",
    "else:\n",
    "    print('No day')\n"
   ]
  },
  {
   "cell_type": "markdown",
   "id": "9d2b4321-e878-4662-90f0-0ab463d6ea15",
   "metadata": {},
   "source": [
    "# Nested If condition"
   ]
  },
  {
   "cell_type": "code",
   "execution_count": 36,
   "id": "eca06132-0e36-4103-b6da-f2a4eaa6d9ed",
   "metadata": {},
   "outputs": [
    {
     "name": "stdin",
     "output_type": "stream",
     "text": [
      "Enter the value 15\n"
     ]
    },
    {
     "name": "stdout",
     "output_type": "stream",
     "text": [
      "Inside the if condition\n",
      "Inside the else part of nested if\n"
     ]
    }
   ],
   "source": [
    "\"\"\"Enter the value from user and check is it greater than 10 or 20 or not\"\"\"\n",
    "\n",
    "a=int(input('Enter the value'))\n",
    "\n",
    "if a>10:\n",
    "    print('Inside the if condition')\n",
    "    if a>20:\n",
    "        print('Inside the nested if')\n",
    "    else:\n",
    "        print('Inside the else part of nested if')\n",
    "\n",
    "else:\n",
    "    print('Outside the condition')"
   ]
  },
  {
   "cell_type": "code",
   "execution_count": 39,
   "id": "77eb0924-c7cf-413f-b802-f7820a408c83",
   "metadata": {},
   "outputs": [
    {
     "name": "stdin",
     "output_type": "stream",
     "text": [
      "Enter the number of class attended by student 65\n",
      "Enter the number of assignment submitted by student 14\n"
     ]
    },
    {
     "name": "stdout",
     "output_type": "stream",
     "text": [
      "you are suspended\n"
     ]
    }
   ],
   "source": [
    "\"\"\"enter user, number of class attended by student,number of  assignment  submitted by student, if attandence is greater than 75 than only student can appear for exam one, if student attandence is greater 75 and submitted more than 10 assignment than only appear in exam two\"\"\"\n",
    "\n",
    "a= int(input('Enter the number of class attended by student'))\n",
    "b= int(input('Enter the number of assignment submitted by student'))\n",
    "\n",
    "if a>75:\n",
    "    print('Eligible for exam one')\n",
    "    if b>10:\n",
    "        print('eligible for exam two also')\n",
    "    else:\n",
    "        print('Eligible for exam one, but not eligible for exam two')\n",
    "else:\n",
    "    print('you are suspended')\n",
    "    \n"
   ]
  },
  {
   "cell_type": "code",
   "execution_count": null,
   "id": "94c51f15-46b8-4874-ab7b-696886e70c52",
   "metadata": {},
   "outputs": [],
   "source": []
  },
  {
   "cell_type": "code",
   "execution_count": null,
   "id": "29a11ba8-5959-4996-9958-4edabfedf7df",
   "metadata": {},
   "outputs": [],
   "source": []
  },
  {
   "cell_type": "code",
   "execution_count": null,
   "id": "1cf9b63b-0778-446d-8a4e-4c83e3a3f729",
   "metadata": {},
   "outputs": [],
   "source": []
  }
 ],
 "metadata": {
  "kernelspec": {
   "display_name": "Python 3 (ipykernel)",
   "language": "python",
   "name": "python3"
  },
  "language_info": {
   "codemirror_mode": {
    "name": "ipython",
    "version": 3
   },
   "file_extension": ".py",
   "mimetype": "text/x-python",
   "name": "python",
   "nbconvert_exporter": "python",
   "pygments_lexer": "ipython3",
   "version": "3.11.5"
  }
 },
 "nbformat": 4,
 "nbformat_minor": 5
}
