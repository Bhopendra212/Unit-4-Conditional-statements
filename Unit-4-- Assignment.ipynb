{
 "cells": [
  {
   "cell_type": "markdown",
   "id": "875e0676-ced8-4340-bf85-b66675ff828a",
   "metadata": {},
   "source": [
    "# 1- write a program to check the given number is divisible by 5 or not "
   ]
  },
  {
   "cell_type": "code",
   "execution_count": 3,
   "id": "ca442702-fb51-4789-87d5-00fe730036ac",
   "metadata": {},
   "outputs": [
    {
     "name": "stdin",
     "output_type": "stream",
     "text": [
      "Enter the number 15\n"
     ]
    },
    {
     "name": "stdout",
     "output_type": "stream",
     "text": [
      "Number is divisible by 5\n"
     ]
    }
   ],
   "source": [
    "a=int(input('Enter the number'))\n",
    "\n",
    "if a%5==0:\n",
    "    print('Number is divisible by 5')\n",
    "else:\n",
    "    print('Number is not divisible by 5')"
   ]
  },
  {
   "cell_type": "code",
   "execution_count": null,
   "id": "f5462c82-d3a5-4255-8096-f5211e9bb984",
   "metadata": {},
   "outputs": [],
   "source": []
  },
  {
   "cell_type": "markdown",
   "id": "768979ce-6532-446a-8453-5f8ede03e17c",
   "metadata": {},
   "source": [
    "# 2- find maximum number out of given 3 numbers"
   ]
  },
  {
   "cell_type": "code",
   "execution_count": 5,
   "id": "b554779f-58f4-48d2-8927-7448ced03818",
   "metadata": {},
   "outputs": [
    {
     "name": "stdin",
     "output_type": "stream",
     "text": [
      "Enter the first number 100\n",
      "Enter the second number 150\n",
      "Enter the third number 50\n"
     ]
    },
    {
     "name": "stdout",
     "output_type": "stream",
     "text": [
      "The largest number is 150\n"
     ]
    }
   ],
   "source": [
    "a=int(input('Enter the first number'))\n",
    "b= int(input('Enter the second number'))\n",
    "c= int(input('Enter the third number'))\n",
    "\n",
    "if a>b and b<c:\n",
    "    largest=a\n",
    "    print('The largest number is',largest)\n",
    "elif b>a and c<a:\n",
    "    largest=b\n",
    "    print('The largest number is',largest)\n",
    "else:\n",
    "    largest=c\n",
    "    print('The largest number is',largest)\n",
    "    "
   ]
  },
  {
   "cell_type": "code",
   "execution_count": null,
   "id": "3d779bea-d1b8-407f-99df-6e5d9192ace1",
   "metadata": {},
   "outputs": [],
   "source": []
  },
  {
   "cell_type": "markdown",
   "id": "6205ab5f-aaa7-4215-92a3-728f92b4c8a2",
   "metadata": {},
   "source": [
    "# 3- A toy vendor supplies three types of toys: Battery based toys, key based toy and electrical charging based toy.The vendor gives a discount of 10% on orders for battery based toys if the order is for more than rs 1000,5% if order is above rs 100 for key based toys.10% if order is above rs 500 for electrical based toys.1,2,3 are codes used for the respective battery based,key based and electrical based.Write a program that reads the product code and the order amount and print out the net amount that the customer is required to pay after the discount"
   ]
  },
  {
   "cell_type": "code",
   "execution_count": 9,
   "id": "e22fbebd-bc97-4a31-9acd-78607ff40c3e",
   "metadata": {},
   "outputs": [
    {
     "name": "stdin",
     "output_type": "stream",
     "text": [
      "Enter the product code: 1\n",
      "Enter the order amount: 1500\n"
     ]
    },
    {
     "name": "stdout",
     "output_type": "stream",
     "text": [
      "Discount_percentage:10%\n",
      "Discount_amount:Rs150.0\n",
      "Net_amount:Rs1350.0\n"
     ]
    }
   ],
   "source": [
    "battery_toys=1\n",
    "key_toys=2\n",
    "electrical_toys=3\n",
    "\n",
    "battery_based_discount_threshold=1000\n",
    "key_based_discount_threshold=100\n",
    "electrical_based_discount_threshold=500\n",
    "\n",
    "user=int(input('Enter the product code:'))\n",
    "\n",
    "order_amount=int(input('Enter the order amount:'))\n",
    "\n",
    "if user==1 and battery_based_discount_threshold<order_amount:\n",
    "    Discount_percentage=10\n",
    "elif user==2 and key_based_discount_threshold<order_amount:\n",
    "    Discount_percentage=5\n",
    "elif user==3 and electrical_based_discount_threshold<order_amount:\n",
    "    Discount_percentage=10\n",
    "else:\n",
    "    print('Product is not in the list')\n",
    "\n",
    "Discount_amount=order_amount*Discount_percentage/100\n",
    "Net_amount=order_amount-Discount_amount\n",
    "\n",
    "print(f'Discount_percentage:{Discount_percentage}%')\n",
    "print(f'Discount_amount:Rs{Discount_amount}')\n",
    "print(f'Net_amount:Rs{Net_amount}')"
   ]
  },
  {
   "cell_type": "code",
   "execution_count": null,
   "id": "f65b0c50-8b45-4788-89c8-2dbc53e263e9",
   "metadata": {},
   "outputs": [],
   "source": []
  },
  {
   "cell_type": "markdown",
   "id": "f58e03e4-d74c-49cc-9e87-6bcadae4938b",
   "metadata": {},
   "source": [
    "# 4- The paschim gujrat company ltd.computes the electricity bill based on the following matrix: Unit consumed charges: 0-100-- 0.50 per unit, 101-200 --rs 50 plus rs 1 per unit over 100 units,201-300-- rs 150 plus 1.50 per unit over 200 units,300-- rs 300 plus rs 2 per unit over 300 units. Ask user to enter past and present meter reading, find the units consumed,compute the bill according to given matrix."
   ]
  },
  {
   "cell_type": "code",
   "execution_count": 12,
   "id": "b532fa1f-019e-4577-8c59-0966b3469cf5",
   "metadata": {},
   "outputs": [
    {
     "name": "stdin",
     "output_type": "stream",
     "text": [
      "Enter the past unit 200\n",
      "Enter the current unit 650\n"
     ]
    },
    {
     "name": "stdout",
     "output_type": "stream",
     "text": [
      "Units consumed 450\n",
      "The total electricity bill is 1200\n"
     ]
    }
   ],
   "source": [
    "past_meter_reading=int(input('Enter the past unit'))\n",
    "current_meter_reading=int(input('Enter the current unit'))\n",
    "\n",
    "units_consumed=current_meter_reading - past_meter_reading\n",
    "print('Units consumed',units_consumed)\n",
    "\n",
    "if units_consumed >=0 and units_consumed<=100:\n",
    "    Bill=units_consumed*0.50\n",
    "    print('The total electricity bill is',Bill)\n",
    "\n",
    "elif units_consumed >=101 and units_consumed<=200:\n",
    "    Bill=50 + units_consumed * 1\n",
    "    print('The total electricity bill is',Bill)\n",
    "\n",
    "elif units_consumed >=201 and units_consumed<=300:\n",
    "    Bill=150 + units_consumed *1.50\n",
    "    print('The total electricity bill is',Bill)\n",
    "\n",
    "elif units_consumed >=300:\n",
    "    Bill=300 + units_consumed * 2\n",
    "    print('The total electricity bill is',Bill)\n",
    "\n",
    "else:\n",
    "    print('Your bill record is not found')"
   ]
  },
  {
   "cell_type": "code",
   "execution_count": null,
   "id": "d6db2b17-50f7-47a0-a911-0cfd347de755",
   "metadata": {},
   "outputs": [],
   "source": []
  },
  {
   "cell_type": "markdown",
   "id": "87488b59-d5ef-4dfd-a602-2540aea002b2",
   "metadata": {},
   "source": [
    "# 5- write a program to check - the given number is positive or negative or zero"
   ]
  },
  {
   "cell_type": "code",
   "execution_count": 16,
   "id": "5eb6a374-b96e-409d-a4c1-bcf0d0b75a19",
   "metadata": {},
   "outputs": [
    {
     "name": "stdin",
     "output_type": "stream",
     "text": [
      "Enter the number: 3\n"
     ]
    },
    {
     "name": "stdout",
     "output_type": "stream",
     "text": [
      "The given number is positive\n"
     ]
    }
   ],
   "source": [
    "n=int(input('Enter the number:'))\n",
    "\n",
    "if n>0:\n",
    "    print('The given number is positive')\n",
    "\n",
    "elif n<0:\n",
    "    print('The given number is negative')\n",
    "\n",
    "else:\n",
    "    print('The given number is zero')"
   ]
  },
  {
   "cell_type": "markdown",
   "id": "839a8d76-f6d5-4b98-91f9-507499edab2e",
   "metadata": {},
   "source": [
    "# 6--    Write a program to display 'Hello' the number entered by user is divisible by 7 otherwise print 'Bye'"
   ]
  },
  {
   "cell_type": "code",
   "execution_count": 18,
   "id": "596858d0-5838-47e7-ab3d-77d051785132",
   "metadata": {},
   "outputs": [
    {
     "name": "stdin",
     "output_type": "stream",
     "text": [
      "Enter the number: 109\n"
     ]
    },
    {
     "name": "stdout",
     "output_type": "stream",
     "text": [
      "Bye\n"
     ]
    }
   ],
   "source": [
    "z=int(input('Enter the number:'))\n",
    "\n",
    "if z%7==0:\n",
    "    print('Hello')\n",
    "else:\n",
    "    print('Bye')"
   ]
  },
  {
   "cell_type": "code",
   "execution_count": null,
   "id": "9dbe7fb6-cbf2-4f56-a18e-95bd61611120",
   "metadata": {},
   "outputs": [],
   "source": []
  },
  {
   "cell_type": "code",
   "execution_count": null,
   "id": "fffbec3e-cd36-470c-8770-5a3be92e3250",
   "metadata": {},
   "outputs": [],
   "source": []
  },
  {
   "cell_type": "code",
   "execution_count": null,
   "id": "16a54010-5932-4062-8752-ad56045f14f2",
   "metadata": {},
   "outputs": [],
   "source": []
  },
  {
   "cell_type": "code",
   "execution_count": null,
   "id": "3f22a7f4-1691-4036-83e1-665e1306fb4f",
   "metadata": {},
   "outputs": [],
   "source": []
  },
  {
   "cell_type": "code",
   "execution_count": null,
   "id": "6d12e897-5196-42d8-9868-20d73e0a4c26",
   "metadata": {},
   "outputs": [],
   "source": []
  },
  {
   "cell_type": "code",
   "execution_count": null,
   "id": "600d603b-ecaa-40ed-93fa-e94b3884bc41",
   "metadata": {},
   "outputs": [],
   "source": []
  }
 ],
 "metadata": {
  "kernelspec": {
   "display_name": "Python 3 (ipykernel)",
   "language": "python",
   "name": "python3"
  },
  "language_info": {
   "codemirror_mode": {
    "name": "ipython",
    "version": 3
   },
   "file_extension": ".py",
   "mimetype": "text/x-python",
   "name": "python",
   "nbconvert_exporter": "python",
   "pygments_lexer": "ipython3",
   "version": "3.11.5"
  }
 },
 "nbformat": 4,
 "nbformat_minor": 5
}
